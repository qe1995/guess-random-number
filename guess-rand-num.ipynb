{
 "cells": [
  {
   "cell_type": "code",
   "execution_count": 11,
   "id": "008a67ae-fbe0-47ae-9ac9-d96962c2f553",
   "metadata": {},
   "outputs": [],
   "source": [
    "# import randint to create random integer numbers. \n",
    "from random import randint\n",
    "\n",
    "for value in range(1): \n",
    "    value = randint(1,20)\n",
    "    "
   ]
  },
  {
   "cell_type": "code",
   "execution_count": 12,
   "id": "61710588-1476-4499-b4ba-a21a55ea521c",
   "metadata": {},
   "outputs": [
    {
     "name": "stdin",
     "output_type": "stream",
     "text": [
      "Guess a number from 1 to 20: 10\n"
     ]
    },
    {
     "name": "stdout",
     "output_type": "stream",
     "text": [
      "Too High!\n"
     ]
    },
    {
     "name": "stdin",
     "output_type": "stream",
     "text": [
      "Guess a number from 1 to 20: 5\n"
     ]
    },
    {
     "name": "stdout",
     "output_type": "stream",
     "text": [
      "Too Low!\n"
     ]
    },
    {
     "name": "stdin",
     "output_type": "stream",
     "text": [
      "Guess a number from 1 to 20: 8\n"
     ]
    },
    {
     "name": "stdout",
     "output_type": "stream",
     "text": [
      "Too Low!\n"
     ]
    },
    {
     "name": "stdin",
     "output_type": "stream",
     "text": [
      "Guess a number from 1 to 20: 9\n"
     ]
    },
    {
     "name": "stdout",
     "output_type": "stream",
     "text": [
      "You Won!\n"
     ]
    }
   ],
   "source": [
    "# \n",
    "while value:\n",
    "    user_input= int(input('Guess a number from 1 to 20:'))\n",
    "    if user_input == value:\n",
    "        print ('You Won!') \n",
    "        break\n",
    "    elif user_input > value:\n",
    "        print ('Too High!')\n",
    "        continue\n",
    "    elif user_input < value: \n",
    "        print ('Too Low!') \n",
    "        continue\n",
    "    "
   ]
  },
  {
   "cell_type": "code",
   "execution_count": null,
   "id": "2629851c-4324-4006-9991-ffab782f2614",
   "metadata": {},
   "outputs": [],
   "source": []
  }
 ],
 "metadata": {
  "kernelspec": {
   "display_name": "Python 3 (ipykernel)",
   "language": "python",
   "name": "python3"
  },
  "language_info": {
   "codemirror_mode": {
    "name": "ipython",
    "version": 3
   },
   "file_extension": ".py",
   "mimetype": "text/x-python",
   "name": "python",
   "nbconvert_exporter": "python",
   "pygments_lexer": "ipython3",
   "version": "3.8.13"
  }
 },
 "nbformat": 4,
 "nbformat_minor": 5
}
